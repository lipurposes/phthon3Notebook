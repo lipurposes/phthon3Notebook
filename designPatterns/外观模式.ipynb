{
 "cells": [
  {
   "cell_type": "markdown",
   "metadata": {},
   "source": [
    "#### 外观模式\n",
    "  ##### 外观类持有多个子系统对象\n",
    "  ##### 用户通过调用外观类方法间接与子系统交互 "
   ]
  },
  {
   "cell_type": "code",
   "execution_count": 8,
   "metadata": {},
   "outputs": [],
   "source": [
    "class Encryption(object):\n",
    "    def encrypt(self,data):\n",
    "        print(\"加密数据\")\n",
    "        return data.encode('utf-8')\n",
    "class File(object):\n",
    "    def write(self,data):\n",
    "        print(\"写入数据\",data)\n",
    "class LocalSave(object):\n",
    "    def __init__(self):\n",
    "        self.__encrypt = Encryption()\n",
    "        self.__file = File()\n",
    "    def saveData(self,data):\n",
    "        data = self.__encrypt.encrypt(data)\n",
    "        self.__file.write(data)\n",
    "        "
   ]
  },
  {
   "cell_type": "code",
   "execution_count": 9,
   "metadata": {},
   "outputs": [
    {
     "name": "stdout",
     "output_type": "stream",
     "text": [
      "加密数据\n",
      "写入数据 b'\\xe6\\x88\\x91\\xe6\\x9c\\x8910000000\\xe5\\x85\\x83'\n"
     ]
    }
   ],
   "source": [
    "testData = \"我有10000000元\"\n",
    "localSave = LocalSave()\n",
    "localSave.saveData(testData)"
   ]
  },
  {
   "cell_type": "code",
   "execution_count": null,
   "metadata": {},
   "outputs": [],
   "source": []
  }
 ],
 "metadata": {
  "kernelspec": {
   "display_name": "Python 3",
   "language": "python",
   "name": "python3"
  },
  "language_info": {
   "codemirror_mode": {
    "name": "ipython",
    "version": 3
   },
   "file_extension": ".py",
   "mimetype": "text/x-python",
   "name": "python",
   "nbconvert_exporter": "python",
   "pygments_lexer": "ipython3",
   "version": "3.7.4"
  }
 },
 "nbformat": 4,
 "nbformat_minor": 2
}
