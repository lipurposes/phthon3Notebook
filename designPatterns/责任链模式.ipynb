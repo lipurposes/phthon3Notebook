{
 "cells": [
  {
   "cell_type": "markdown",
   "metadata": {},
   "source": [
    "### 责任链模式\n",
    "    请求有多个处理者，每个处理者在不同的情况下处理该请求，或者有不同的处理权限。采用此模式可解耦，可扩展"
   ]
  },
  {
   "cell_type": "code",
   "execution_count": 2,
   "metadata": {},
   "outputs": [
    {
     "name": "stdout",
     "output_type": "stream",
     "text": [
      "这是我的饭，我要吃了！ 李四\n",
      "这是份备餐，没这个人 王爽\n"
     ]
    }
   ],
   "source": [
    "class Eater(object):\n",
    "    def __init__(self,name):\n",
    "        self.__name = name\n",
    "        self.__next = None\n",
    "    def eat(self,food):\n",
    "        if food == self.__name :\n",
    "            print('这是我的饭，我要吃了！ %s' % food)\n",
    "        else:\n",
    "            if self.__next:\n",
    "                self.__next.eat(food)\n",
    "            else:\n",
    "                print('这是份备餐，没这个人 %s' % food)\n",
    "    @property\n",
    "    def next(self):\n",
    "        return self.__next\n",
    "    @next.setter\n",
    "    def next(self,nexter):\n",
    "        self.__next = nexter\n",
    "eat1 = Eater('张全蛋')\n",
    "eat2 = Eater('张三')\n",
    "eat3 = Eater('李四')\n",
    "eat4 = Eater('王麻子')\n",
    "eat1.next = eat2\n",
    "eat2.next = eat3\n",
    "eat3.next = eat4\n",
    "\n",
    "eat1.eat('李四')\n",
    "eat1.eat('王爽')"
   ]
  },
  {
   "cell_type": "code",
   "execution_count": null,
   "metadata": {},
   "outputs": [],
   "source": []
  }
 ],
 "metadata": {
  "kernelspec": {
   "display_name": "Python 3",
   "language": "python",
   "name": "python3"
  },
  "language_info": {
   "codemirror_mode": {
    "name": "ipython",
    "version": 3
   },
   "file_extension": ".py",
   "mimetype": "text/x-python",
   "name": "python",
   "nbconvert_exporter": "python",
   "pygments_lexer": "ipython3",
   "version": "3.7.5"
  }
 },
 "nbformat": 4,
 "nbformat_minor": 2
}
