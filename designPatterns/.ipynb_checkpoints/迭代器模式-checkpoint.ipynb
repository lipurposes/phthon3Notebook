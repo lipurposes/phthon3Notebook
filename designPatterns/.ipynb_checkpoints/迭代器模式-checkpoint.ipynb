{
 "cells": [
  {
   "cell_type": "markdown",
   "metadata": {},
   "source": [
    "#### 迭代模式\n",
    "    将数据类和遍历分开，开闭原则，单一职责原则"
   ]
  },
  {
   "cell_type": "code",
   "execution_count": 8,
   "metadata": {},
   "outputs": [],
   "source": [
    "class DataBase(object):\n",
    "    def __init__(self):\n",
    "        pass\n",
    "    def add(value):\n",
    "        pass\n",
    "    def remove(value):\n",
    "        pass\n",
    "    def getIterator():\n",
    "        pass\n",
    "class Iterator(object):\n",
    "    def __init__(self):\n",
    "        pass\n",
    "    def nextValue(self):\n",
    "        pass\n",
    "    def first(self):\n",
    "        pass\n",
    "    def hasNext(self):\n",
    "        pass\n",
    "class ListIterator(Iterator):\n",
    "    def __init__(self,dataList):\n",
    "        Iterator.__init__(self)\n",
    "        self._dataList = dataList\n",
    "        self._index = -1\n",
    "    def nextValue(self):\n",
    "        if self.hasNext():\n",
    "            self._index += 1\n",
    "            return self._dataList[self._index]\n",
    "    def hasNext(self):\n",
    "        if len(self._dataList) > self._index + 1:\n",
    "            return True\n",
    "        return False\n",
    "        \n",
    "class MyList(DataBase):\n",
    "    def __init__(self):\n",
    "        self._list = []\n",
    "    def getIterator(self):\n",
    "        return ListIterator(self._list)\n",
    "    def add(self,value):\n",
    "        self._list.append(value)\n",
    "    def remove(self,value):\n",
    "        self._list.remove(value)"
   ]
  },
  {
   "cell_type": "code",
   "execution_count": 9,
   "metadata": {},
   "outputs": [
    {
     "name": "stdout",
     "output_type": "stream",
     "text": [
      "wo\n",
      "shi\n",
      "shui\n",
      "women\n",
      "de\n"
     ]
    }
   ],
   "source": [
    "myList = MyList()\n",
    "myList.add(\"wo\")\n",
    "myList.add(\"shi\")\n",
    "myList.add(\"shui\")\n",
    "myList.add(\"women\")\n",
    "myList.add(\"de\")\n",
    "iterator = myList.getIterator()\n",
    "while iterator.hasNext() :\n",
    "    print(iterator.nextValue())"
   ]
  },
  {
   "cell_type": "code",
   "execution_count": null,
   "metadata": {},
   "outputs": [],
   "source": []
  }
 ],
 "metadata": {
  "kernelspec": {
   "display_name": "Python 3",
   "language": "python",
   "name": "python3"
  },
  "language_info": {
   "codemirror_mode": {
    "name": "ipython",
    "version": 3
   },
   "file_extension": ".py",
   "mimetype": "text/x-python",
   "name": "python",
   "nbconvert_exporter": "python",
   "pygments_lexer": "ipython3",
   "version": "3.7.5"
  }
 },
 "nbformat": 4,
 "nbformat_minor": 2
}
