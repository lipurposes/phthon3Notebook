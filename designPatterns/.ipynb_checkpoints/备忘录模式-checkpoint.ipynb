{
 "cells": [
  {
   "cell_type": "code",
   "execution_count": 9,
   "metadata": {},
   "outputs": [],
   "source": [
    "class Game(object) :\n",
    "    def __init__(self, hp, card) :\n",
    "        self._hp = hp\n",
    "        self._card = card\n",
    "    def setHp(self, hp) :\n",
    "        self._hp = hp\n",
    "    def setCard(self, card) :\n",
    "        self._card = card\n",
    "    def __str__(self) :\n",
    "        retStr = \"hp is \" + str(self._hp) + \" card is \" + str(self._card)\n",
    "        return retStr\n",
    "    def clone(self) :\n",
    "        return Game(self._hp, self._card)\n",
    "    def createMemento(self) :\n",
    "        return self.clone()\n",
    "    def restoreMemento(self, game) :\n",
    "        self._hp = game._hp\n",
    "        self._card = game._card\n",
    "\n",
    "class GameRecord(object) :\n",
    "    def __init__(self) :\n",
    "        self._list = []\n",
    "    def getRecord(self, num = -1) :\n",
    "        num = num + len(self._list)\n",
    "        if num >= len(self._list) or num < 0 :\n",
    "            raise IndexError\n",
    "        return self._list[num]\n",
    "    def setRecord(self, record) :\n",
    "        self._list.append(record)"
   ]
  },
  {
   "cell_type": "code",
   "execution_count": 11,
   "metadata": {},
   "outputs": [
    {
     "name": "stdout",
     "output_type": "stream",
     "text": [
      "hp is 1000 card is 12\n",
      "hp is 500 card is 2\n"
     ]
    }
   ],
   "source": [
    "game = Game(1000,12)\n",
    "print(game)\n",
    "gameRecord = GameRecord()\n",
    "game.setCard(2)\n",
    "game.setHp(500)\n",
    "gameRecord.setRecord(game.createMemento())\n",
    "game.restoreMemento(gameRecord.getRecord(-1))\n",
    "print(game)"
   ]
  },
  {
   "cell_type": "code",
   "execution_count": null,
   "metadata": {},
   "outputs": [],
   "source": []
  }
 ],
 "metadata": {
  "kernelspec": {
   "display_name": "Python 3",
   "language": "python",
   "name": "python3"
  },
  "language_info": {
   "codemirror_mode": {
    "name": "ipython",
    "version": 3
   },
   "file_extension": ".py",
   "mimetype": "text/x-python",
   "name": "python",
   "nbconvert_exporter": "python",
   "pygments_lexer": "ipython3",
   "version": "3.7.5"
  }
 },
 "nbformat": 4,
 "nbformat_minor": 2
}
