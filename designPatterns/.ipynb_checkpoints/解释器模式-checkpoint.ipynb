{
 "cells": [
  {
   "cell_type": "code",
   "execution_count": 21,
   "metadata": {},
   "outputs": [],
   "source": [
    "class Expression(object) :\n",
    "    def interpret(self, string) :\n",
    "        pass\n",
    "class TermialExpression(Expression) :\n",
    "    def __init__(self, strList) :\n",
    "        self._set = set(strList)\n",
    "    def interpret(self, string) :\n",
    "        return string in self._set\n",
    "class AndExpression(Expression) :\n",
    "    def __init__(self, city, persion) :\n",
    "        self._cityExpression = city\n",
    "        self._persionExpression = persion\n",
    "    def interpret(self, string) :\n",
    "        s = string.split('的')\n",
    "        return self._cityExpression.interpret(s[0]) and self._persionExpression.interpret(s[1])"
   ]
  },
  {
   "cell_type": "code",
   "execution_count": 22,
   "metadata": {},
   "outputs": [],
   "source": [
    "class Context(object) :\n",
    "    def __init__(self) :\n",
    "        self.citys = ['北京', '天津']\n",
    "        self.persons = ['老人', '儿童', '孕妇']\n",
    "        self._cityExpression = TermialExpression(self.citys)\n",
    "        self._personExpression = TermialExpression(self.persons)\n",
    "        self._andExpression = AndExpression(self._cityExpression, self._personExpression)\n",
    "    def freeRide(self, string) :\n",
    "        isOk = self._andExpression.interpret(string)\n",
    "        if isOk :\n",
    "            print('您是' + string, \"您本次乘车免费\")\n",
    "        else :\n",
    "            print(string, '您本次乘车2元')"
   ]
  },
  {
   "cell_type": "code",
   "execution_count": 23,
   "metadata": {},
   "outputs": [
    {
     "name": "stdout",
     "output_type": "stream",
     "text": [
      "您是北京的老人 您本次乘车免费\n",
      "上海的年轻人 您本次乘车2元\n",
      "天津的妇女 您本次乘车2元\n",
      "广州的儿童 您本次乘车2元\n",
      "您是北京的儿童 您本次乘车免费\n"
     ]
    }
   ],
   "source": [
    "bus = Context();\n",
    "bus.freeRide(\"北京的老人\")\n",
    "bus.freeRide(\"上海的年轻人\")\n",
    "bus.freeRide(\"天津的妇女\")\n",
    "bus.freeRide(\"广州的儿童\")\n",
    "bus.freeRide(\"北京的儿童\")"
   ]
  },
  {
   "cell_type": "code",
   "execution_count": null,
   "metadata": {},
   "outputs": [],
   "source": []
  }
 ],
 "metadata": {
  "kernelspec": {
   "display_name": "Python 3",
   "language": "python",
   "name": "python3"
  },
  "language_info": {
   "codemirror_mode": {
    "name": "ipython",
    "version": 3
   },
   "file_extension": ".py",
   "mimetype": "text/x-python",
   "name": "python",
   "nbconvert_exporter": "python",
   "pygments_lexer": "ipython3",
   "version": "3.7.5"
  }
 },
 "nbformat": 4,
 "nbformat_minor": 2
}
