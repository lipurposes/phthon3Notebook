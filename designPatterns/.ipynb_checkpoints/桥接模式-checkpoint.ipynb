{
 "cells": [
  {
   "cell_type": "markdown",
   "metadata": {},
   "source": [
    "### 桥接模式举例"
   ]
  },
  {
   "cell_type": "markdown",
   "metadata": {},
   "source": [
    "    基类衣服，材质属性，衣服使用类型"
   ]
  },
  {
   "cell_type": "markdown",
   "metadata": {},
   "source": [
    "#### 基类"
   ]
  },
  {
   "cell_type": "code",
   "execution_count": 1,
   "metadata": {},
   "outputs": [],
   "source": [
    "class Material(object):\n",
    "    def __init__(self,name):\n",
    "        self.__name = name\n",
    "    def getName(self):\n",
    "        return self.__name\n",
    "class Clothes(object):\n",
    "    def __init__(self,name):\n",
    "        self.__name = name\n",
    "    def setMaterial(self,material):\n",
    "        self.__material = material\n",
    "    def getName(self):\n",
    "        retN = ''\n",
    "        if self.__material:\n",
    "            retN = retN + self.__material.getName()\n",
    "        return retN + self.__name"
   ]
  },
  {
   "cell_type": "markdown",
   "metadata": {},
   "source": [
    "#### 继承"
   ]
  },
  {
   "cell_type": "code",
   "execution_count": 2,
   "metadata": {},
   "outputs": [],
   "source": [
    "class Fur(Material):\n",
    "    def __init__(self):\n",
    "        Material.__init__(self,\"皮毛\")\n",
    "class Cotton(Material):\n",
    "    def __init__(self):\n",
    "        Material.__init__(self,\"棉\")\n",
    "        \n",
    "class Sweater(Clothes):\n",
    "    def __init__(self):\n",
    "        Clothes.__init__(self,\"卫衣\")\n",
    "class Pants(Clothes):\n",
    "    def __init__(self):\n",
    "        Clothes.__init__(self,\"裤子\")    "
   ]
  },
  {
   "cell_type": "markdown",
   "metadata": {},
   "source": [
    "#### 测试"
   ]
  },
  {
   "cell_type": "code",
   "execution_count": 3,
   "metadata": {},
   "outputs": [
    {
     "name": "stdout",
     "output_type": "stream",
     "text": [
      "皮毛卫衣\n"
     ]
    }
   ],
   "source": [
    "cloth1 = Sweater()\n",
    "material1 = Fur()\n",
    "cloth1.setMaterial(material1)\n",
    "print(cloth1.getName())"
   ]
  },
  {
   "cell_type": "code",
   "execution_count": null,
   "metadata": {},
   "outputs": [],
   "source": []
  }
 ],
 "metadata": {
  "kernelspec": {
   "display_name": "Python 3",
   "language": "python",
   "name": "python3"
  },
  "language_info": {
   "codemirror_mode": {
    "name": "ipython",
    "version": 3
   },
   "file_extension": ".py",
   "mimetype": "text/x-python",
   "name": "python",
   "nbconvert_exporter": "python",
   "pygments_lexer": "ipython3",
   "version": "3.7.5"
  }
 },
 "nbformat": 4,
 "nbformat_minor": 2
}
