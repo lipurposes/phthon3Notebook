{
 "cells": [
  {
   "cell_type": "markdown",
   "metadata": {},
   "source": [
    "#### 享元模式简介"
   ]
  },
  {
   "cell_type": "markdown",
   "metadata": {},
   "source": [
    "    将许多相似对象的公共部分提取出来复用，不同部分作为属性附加。一般有对象工厂，公用属性类，私有属性类"
   ]
  },
  {
   "cell_type": "markdown",
   "metadata": {},
   "source": [
    " ##### 享元类"
   ]
  },
  {
   "cell_type": "code",
   "execution_count": 8,
   "metadata": {},
   "outputs": [],
   "source": [
    " #基类\n",
    "class NodeCommon(object):\n",
    "    def __init__(self,nodeType,color):\n",
    "        self.__type = nodeType\n",
    "        self.__color = color\n",
    "    def getColor(self):\n",
    "        return self.__color\n",
    "#工厂类\n",
    "class Factory(object):\n",
    "    def __init__(self):\n",
    "        self.__nodeMap = {}\n",
    "    def getNodeByType(self,nodeType):\n",
    "        return self.__nodeMap[nodeType]\n",
    "    def addNodeByType(self,nodeType,node):\n",
    "        self.__nodeMap[nodeType] = node\n",
    "#通用node\n",
    "class Node(object):\n",
    "    def __init__(self,commonNode):\n",
    "        self.__commonNode = commonNode\n",
    "    def getColor(self):\n",
    "        return self.__commonNode.getColor()"
   ]
  },
  {
   "cell_type": "code",
   "execution_count": 9,
   "metadata": {},
   "outputs": [],
   "source": [
    "class NodeWhite(NodeCommon):\n",
    "    def __init__(self):\n",
    "        NodeCommon.__init__(self,\"white\",\"white\")\n",
    "    def getType(self):\n",
    "        return \"white\"\n",
    "class NodeRed(NodeCommon):\n",
    "    def __init__(self):\n",
    "        NodeCommon.__init__(self,\"red\",\"red\")\n",
    "    def getType(self):\n",
    "        return \"red\""
   ]
  },
  {
   "cell_type": "code",
   "execution_count": 10,
   "metadata": {},
   "outputs": [
    {
     "name": "stdout",
     "output_type": "stream",
     "text": [
      "white red white\n"
     ]
    }
   ],
   "source": [
    "factory = Factory()\n",
    "factory.addNodeByType(\"white\",NodeWhite())\n",
    "factory.addNodeByType(\"red\",NodeRed())\n",
    "node1 = Node(factory.getNodeByType(\"white\"))\n",
    "node2 = Node(factory.getNodeByType(\"red\"))\n",
    "node3 = Node(factory.getNodeByType(\"white\"))\n",
    "print(node1.getColor(),node2.getColor(),node3.getColor())"
   ]
  },
  {
   "cell_type": "code",
   "execution_count": null,
   "metadata": {},
   "outputs": [],
   "source": []
  }
 ],
 "metadata": {
  "kernelspec": {
   "display_name": "Python 3",
   "language": "python",
   "name": "python3"
  },
  "language_info": {
   "codemirror_mode": {
    "name": "ipython",
    "version": 3
   },
   "file_extension": ".py",
   "mimetype": "text/x-python",
   "name": "python",
   "nbconvert_exporter": "python",
   "pygments_lexer": "ipython3",
   "version": "3.7.5"
  }
 },
 "nbformat": 4,
 "nbformat_minor": 2
}
