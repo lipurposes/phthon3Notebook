{
 "cells": [
  {
   "cell_type": "markdown",
   "metadata": {},
   "source": [
    "### 简介"
   ]
  },
  {
   "cell_type": "markdown",
   "metadata": {},
   "source": [
    "组合模式是一种将对象组合成树状的层次结构的模式，有安全方式和透明方式两种。\n",
    "一般结构：\n",
    "1. 抽象构件（Component）角色\n",
    "2. 树叶构件（Leaf）角色\n",
    "3. 树枝构件（Composite）角色"
   ]
  },
  {
   "cell_type": "code",
   "execution_count": 25,
   "metadata": {},
   "outputs": [],
   "source": [
    "class Article(object):\n",
    "    def calculation(self):\n",
    "        pass\n",
    "    def show(self,level):\n",
    "        pass\n",
    "class Good(Article):\n",
    "    def __init__(self,name,num,price):\n",
    "        self.__name = name\n",
    "        self.__num = num\n",
    "        self.__price = price\n",
    "    def calculation(self):\n",
    "        return self.__num * self.__price\n",
    "    def show(self,level):\n",
    "        str = ''\n",
    "        for i in range(level):\n",
    "            str += '  '\n",
    "        print(str+'%s: 价格为%d,数量为%d' % (self.__name, self.__price,self.__num))\n",
    "class Bag(Article):\n",
    "    def __init__(self,name):\n",
    "        self.__name = name\n",
    "        self.__goods = []\n",
    "    def add(self,article):\n",
    "        self.__goods.append(article)\n",
    "    def remove(self,article):\n",
    "        self.__goods.remove(article)\n",
    "    def calculation(self):\n",
    "        total = 0\n",
    "        for art in self.__goods :\n",
    "            total += art.calculation()\n",
    "        return total\n",
    "    def show(self,level = 0):\n",
    "        str = ''\n",
    "        for i in range(level):\n",
    "            str += '  '\n",
    "        print(str+'%s: ' % self.__name)\n",
    "        level += 1\n",
    "        for art in self.__goods :\n",
    "            art.show(level)"
   ]
  },
  {
   "cell_type": "code",
   "execution_count": 26,
   "metadata": {},
   "outputs": [
    {
     "name": "stdout",
     "output_type": "stream",
     "text": [
      "总价格为： 130\n",
      "红袋子: \n",
      "  白袋子: \n",
      "    包子: 价格为1,数量为5\n",
      "    苹果: 价格为5,数量为5\n",
      "  运动鞋: 价格为50,数量为2\n"
     ]
    }
   ],
   "source": [
    "bag1 = Bag('红袋子')\n",
    "bag2 = Bag('白袋子')\n",
    "art1 = Good('运动鞋',2,50)\n",
    "art2 = Good('包子',5,1)\n",
    "art3 = Good('苹果',5,5)\n",
    "bag1.add(bag2)\n",
    "bag1.add(art1)\n",
    "bag2.add(art2)\n",
    "bag2.add(art3)\n",
    "print('总价格为：',bag1.calculation())\n",
    "bag1.show()"
   ]
  },
  {
   "cell_type": "code",
   "execution_count": null,
   "metadata": {},
   "outputs": [],
   "source": []
  }
 ],
 "metadata": {
  "kernelspec": {
   "display_name": "Python 3",
   "language": "python",
   "name": "python3"
  },
  "language_info": {
   "codemirror_mode": {
    "name": "ipython",
    "version": 3
   },
   "file_extension": ".py",
   "mimetype": "text/x-python",
   "name": "python",
   "nbconvert_exporter": "python",
   "pygments_lexer": "ipython3",
   "version": "3.7.5"
  }
 },
 "nbformat": 4,
 "nbformat_minor": 2
}
