{
 "cells": [
  {
   "cell_type": "markdown",
   "metadata": {},
   "source": [
    "### 中介者模式就是用一个中间对象组织对象之间的交互，减少耦合\n",
    "#### 我们游戏中的事件监听与发送与此类似，就是游戏是通过事件组织对象队列"
   ]
  },
  {
   "cell_type": "code",
   "execution_count": 15,
   "metadata": {},
   "outputs": [],
   "source": [
    "class EventDispatcher(object):\n",
    "    def __init__(self):\n",
    "        self._eventMap = {}\n",
    "    def addEventListener(self,eventName,handler):\n",
    "        if eventName not in self._eventMap:\n",
    "            self._eventMap[eventName] = []\n",
    "        self._eventMap[eventName].append(handler)\n",
    "    def sendEvent(self,eventName,data = None):\n",
    "        if eventName in self._eventMap:\n",
    "            for handler in self._eventMap[eventName]:\n",
    "                handler(data)\n",
    "    def removeEventHandler(self,eventName,handler):\n",
    "        if eventName in self._eventMap:\n",
    "            self._eventMap[eventName].remove(handler)"
   ]
  },
  {
   "cell_type": "code",
   "execution_count": 18,
   "metadata": {},
   "outputs": [],
   "source": [
    "eventDispatcher = EventDispatcher()\n",
    "class Student(object):\n",
    "    def __init__(self):\n",
    "        eventDispatcher.addEventListener('开学',lambda data: self.goToSchool())\n",
    "    def goToSchool(self):\n",
    "        print('我要去上学了！')\n",
    "class Teacher(object):\n",
    "    def sendGoSchool(self):\n",
    "        eventDispatcher.sendEvent('开学')"
   ]
  },
  {
   "cell_type": "code",
   "execution_count": 19,
   "metadata": {},
   "outputs": [
    {
     "name": "stdout",
     "output_type": "stream",
     "text": [
      "我要去上学了！\n"
     ]
    }
   ],
   "source": [
    "student = Student()\n",
    "teacher = Teacher()\n",
    "teacher.sendGoSchool()"
   ]
  },
  {
   "cell_type": "code",
   "execution_count": null,
   "metadata": {},
   "outputs": [],
   "source": []
  }
 ],
 "metadata": {
  "kernelspec": {
   "display_name": "Python 3",
   "language": "python",
   "name": "python3"
  },
  "language_info": {
   "codemirror_mode": {
    "name": "ipython",
    "version": 3
   },
   "file_extension": ".py",
   "mimetype": "text/x-python",
   "name": "python",
   "nbconvert_exporter": "python",
   "pygments_lexer": "ipython3",
   "version": "3.7.5"
  }
 },
 "nbformat": 4,
 "nbformat_minor": 2
}
