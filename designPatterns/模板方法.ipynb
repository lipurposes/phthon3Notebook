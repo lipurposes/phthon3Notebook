{
 "cells": [
  {
   "cell_type": "markdown",
   "metadata": {},
   "source": [
    "### 模板方法\n",
    "    1.是一种类行为模式\n",
    "    2.父类已经定义好方法框架和部分调用公共方法\n",
    "    3.子类实现某些易变方法"
   ]
  },
  {
   "cell_type": "markdown",
   "metadata": {},
   "source": [
    "#### 模板方法例子 打豆浆"
   ]
  },
  {
   "cell_type": "code",
   "execution_count": 4,
   "metadata": {},
   "outputs": [],
   "source": [
    "class SoyaMilk(object):\n",
    "    def prepareRecipe(self):\n",
    "        self.selectMaterail()   #选材\n",
    "        self.addCondiments()    #添加配料\n",
    "        self.soak()             #浸泡\n",
    "        self.beat()             #打碎，搅拌\n",
    "    def beat(self):\n",
    "        print('第四步：豆子和配料放到豆浆机打碎')\n",
    "    def soak(self):\n",
    "        print('第三步：浸泡材料')\n",
    "    def addCondiments():\n",
    "        pass\n",
    "    def selectMaterail(self):\n",
    "        print('第一步：加入黄豆')\n",
    "        \n",
    "class RedNutSoyaMilk(SoyaMilk):\n",
    "    def selectMaterail(self):\n",
    "        print('第一步：加入红豆')\n",
    "    def addCondiments(self):\n",
    "        print('第二步：加入核桃')\n",
    "class ReddatesSoyaMilk(SoyaMilk):\n",
    "    def addCondiments(self):\n",
    "        print('第二步：加入红枣')"
   ]
  },
  {
   "cell_type": "code",
   "execution_count": 5,
   "metadata": {},
   "outputs": [
    {
     "name": "stdout",
     "output_type": "stream",
     "text": [
      "第一步：加入红豆\n",
      "第二步：加入核桃\n",
      "第三步：浸泡材料\n",
      "第四步：豆子和配料放到豆浆机打碎\n"
     ]
    }
   ],
   "source": [
    "#测试1\n",
    "soyaMilk = RedNutSoyaMilk()\n",
    "soyaMilk.prepareRecipe()"
   ]
  },
  {
   "cell_type": "code",
   "execution_count": 6,
   "metadata": {},
   "outputs": [
    {
     "name": "stdout",
     "output_type": "stream",
     "text": [
      "第一步：加入黄豆\n",
      "第二步：加入红枣\n",
      "第三步：浸泡材料\n",
      "第四步：豆子和配料放到豆浆机打碎\n"
     ]
    }
   ],
   "source": [
    "#测试2\n",
    "soyaMilk = ReddatesSoyaMilk()\n",
    "soyaMilk.prepareRecipe()"
   ]
  },
  {
   "cell_type": "code",
   "execution_count": null,
   "metadata": {},
   "outputs": [],
   "source": []
  },
  {
   "cell_type": "code",
   "execution_count": null,
   "metadata": {},
   "outputs": [],
   "source": []
  },
  {
   "cell_type": "code",
   "execution_count": null,
   "metadata": {},
   "outputs": [],
   "source": []
  }
 ],
 "metadata": {
  "kernelspec": {
   "display_name": "Python 3",
   "language": "python",
   "name": "python3"
  },
  "language_info": {
   "codemirror_mode": {
    "name": "ipython",
    "version": 3
   },
   "file_extension": ".py",
   "mimetype": "text/x-python",
   "name": "python",
   "nbconvert_exporter": "python",
   "pygments_lexer": "ipython3",
   "version": "3.7.5"
  }
 },
 "nbformat": 4,
 "nbformat_minor": 2
}
