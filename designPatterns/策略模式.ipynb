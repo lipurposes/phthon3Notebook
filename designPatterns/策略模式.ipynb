{
 "cells": [
  {
   "cell_type": "markdown",
   "metadata": {},
   "source": [
    "策略模式就是将每个策略单独实现，使用时根据需要使用"
   ]
  },
  {
   "cell_type": "code",
   "execution_count": 10,
   "metadata": {},
   "outputs": [
    {
     "name": "stdout",
     "output_type": "stream",
     "text": [
      "正在进行加密\n",
      "正在进行解密\n",
      "结果为 我米恩的马丁天\n"
     ]
    }
   ],
   "source": [
    "#例子\n",
    "class Cryp(object):\n",
    "    def encryp(self,data):\n",
    "        return print('正在进行加密')\n",
    "    def decryp(self,data):\n",
    "        return print('正在进行解密')\n",
    "class AddCryp(Cryp):\n",
    "    Add = 5\n",
    "    def encryp(self,data):\n",
    "        Cryp.encryp(self,data)\n",
    "        bData = data.encode('utf-8')\n",
    "        bData = bytearray(bData)\n",
    "        for i in range(len(bData)):\n",
    "            bData[i] = (bData[i] + self.Add)%256\n",
    "        return bytes(bData)\n",
    "    def decryp(self,data):\n",
    "        Cryp.decryp(self,data)\n",
    "        bData = bytearray(data)\n",
    "        for i in range(len(bData)):\n",
    "            bData[i] = (bData[i] - self.Add)%256\n",
    "        bData = bData.decode('utf-8')\n",
    "        return bData\n",
    "class CommonCryp(Cryp):\n",
    "    def encryp(self,data):\n",
    "        Cryp.encryp(self,data)\n",
    "        bData = data.encode('utf-8')\n",
    "        return bData\n",
    "    def decryp(self,data):\n",
    "        Cryp.decryp(self,data)\n",
    "        bData = data.decode('utf-8')\n",
    "        return bData\n",
    "class MyCryp(Cryp):\n",
    "    def __init__(self,cryption):\n",
    "        self.__cryption = cryption\n",
    "    def encryp(self,data):\n",
    "        bData = self.__cryption.encryp(data)\n",
    "        return bData\n",
    "    def decryp(self,data):\n",
    "        bData = self.__cryption.decryp(data)\n",
    "        return bData\n",
    "testData = '我米恩的马丁天'\n",
    "test1 = MyCryp(AddCryp())\n",
    "data1 = test1.encryp(testData)\n",
    "data1 = test1.decryp(data1)\n",
    "print('结果为',data1)"
   ]
  },
  {
   "cell_type": "code",
   "execution_count": null,
   "metadata": {},
   "outputs": [],
   "source": []
  }
 ],
 "metadata": {
  "kernelspec": {
   "display_name": "Python 3",
   "language": "python",
   "name": "python3"
  },
  "language_info": {
   "codemirror_mode": {
    "name": "ipython",
    "version": 3
   },
   "file_extension": ".py",
   "mimetype": "text/x-python",
   "name": "python",
   "nbconvert_exporter": "python",
   "pygments_lexer": "ipython3",
   "version": "3.7.5"
  }
 },
 "nbformat": 4,
 "nbformat_minor": 2
}
