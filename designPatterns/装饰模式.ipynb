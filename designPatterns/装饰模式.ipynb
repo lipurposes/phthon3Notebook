{
 "cells": [
  {
   "cell_type": "markdown",
   "metadata": {},
   "source": [
    "### 装饰模式："
   ]
  },
  {
   "cell_type": "markdown",
   "metadata": {},
   "source": [
    "    实现被装饰对象的方法\n",
    "    拥有一个被装饰对象\n",
    "    扩展被装饰对象的一些功能\n",
    "    装饰对象可以再装饰"
   ]
  },
  {
   "cell_type": "markdown",
   "metadata": {},
   "source": [
    "   ####        基类"
   ]
  },
  {
   "cell_type": "code",
   "execution_count": 26,
   "metadata": {},
   "outputs": [],
   "source": [
    "class BaseWork(object):\n",
    "    def work(self):\n",
    "        print(\"我在认真工作\")\n",
    "class DecorationWork(BaseWork):\n",
    "    def __init__(self,work):\n",
    "        self.__work = work\n",
    "    def getWork(self):\n",
    "        return self.__work"
   ]
  },
  {
   "cell_type": "markdown",
   "metadata": {},
   "source": [
    "#### 继承类"
   ]
  },
  {
   "cell_type": "code",
   "execution_count": 27,
   "metadata": {},
   "outputs": [],
   "source": [
    "class Work(BaseWork):\n",
    "    def work(self):\n",
    "        print(\"我在认真写代码\")\n",
    "class AddedWork(DecorationWork):\n",
    "    def __init__(self,work):\n",
    "        DecorationWork.__init__(self,work)\n",
    "    def work(self):\n",
    "        #print(self.getWork())\n",
    "        self.getWork().work()\n",
    "        print(\"请不要打扰我\")\n",
    "class AddedWork2(DecorationWork):\n",
    "    def __init__(self,work):\n",
    "        DecorationWork.__init__(self,work)\n",
    "    def work(self):\n",
    "        #print(self.getWork())\n",
    "        self.getWork().work()\n",
    "        print(\"我在听音乐\")"
   ]
  },
  {
   "cell_type": "markdown",
   "metadata": {},
   "source": [
    "#### 测试"
   ]
  },
  {
   "cell_type": "code",
   "execution_count": 28,
   "metadata": {},
   "outputs": [
    {
     "name": "stdout",
     "output_type": "stream",
     "text": [
      "我在认真写代码\n",
      "请不要打扰我\n",
      "我在听音乐\n"
     ]
    }
   ],
   "source": [
    "baseWork = Work()\n",
    "#baseWork.work()\n",
    "outWork = AddedWork(baseWork)\n",
    "outWork2 = AddedWork2(outWork)\n",
    "outWork2.work()"
   ]
  },
  {
   "cell_type": "code",
   "execution_count": null,
   "metadata": {},
   "outputs": [],
   "source": []
  }
 ],
 "metadata": {
  "kernelspec": {
   "display_name": "Python 3",
   "language": "python",
   "name": "python3"
  },
  "language_info": {
   "codemirror_mode": {
    "name": "ipython",
    "version": 3
   },
   "file_extension": ".py",
   "mimetype": "text/x-python",
   "name": "python",
   "nbconvert_exporter": "python",
   "pygments_lexer": "ipython3",
   "version": "3.7.4"
  }
 },
 "nbformat": 4,
 "nbformat_minor": 2
}
