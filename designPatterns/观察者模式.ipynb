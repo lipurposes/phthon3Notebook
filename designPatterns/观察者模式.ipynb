{
 "cells": [
  {
   "cell_type": "markdown",
   "metadata": {},
   "source": [
    "### 观察者模式 \n",
    "    1.由被观察者和观察者组成\n",
    "    2.将观察者添加到被观察者队列中，被观察者发生事件，调用观察者相应方法"
   ]
  },
  {
   "cell_type": "code",
   "execution_count": 5,
   "metadata": {},
   "outputs": [],
   "source": [
    "## 被观察者基类\n",
    "class Observable(object):\n",
    "    def __init__(self):\n",
    "        self._observerList = []\n",
    "    def addObserver(self,observer):\n",
    "        self._observerList.append(observer)\n",
    "    def removeObserver(self,observer):\n",
    "        self._observerList.remove(observer)\n",
    "    def notifyObservers(self,event):\n",
    "        for observer in self._observerList:\n",
    "            observer.observedChanged(self,event)\n",
    "\n",
    "## 观察者\n",
    "class Observer(object):\n",
    "    def __init__(self):\n",
    "        pass\n",
    "    def observedChanged(self,observed,event):\n",
    "        print('啊哈，终于等到你了！' + event.name)\n",
    "## 事件\n",
    "class Event(object):\n",
    "    def __init__(self,name):\n",
    "        self._name = name\n",
    "    @property\n",
    "    def name(self):\n",
    "        return self._name\n",
    "class TeaPot(Observable):\n",
    "    pass\n",
    "class People(Observer):\n",
    "    pass\n"
   ]
  },
  {
   "cell_type": "code",
   "execution_count": 7,
   "metadata": {},
   "outputs": [
    {
     "name": "stdout",
     "output_type": "stream",
     "text": [
      "啊哈，终于等到你了！水开了！\n"
     ]
    }
   ],
   "source": [
    "### 测试\n",
    "teaPot = TeaPot()\n",
    "teaPot.addObserver(People())\n",
    "teaPot.notifyObservers(Event('水开了！'))"
   ]
  },
  {
   "cell_type": "code",
   "execution_count": null,
   "metadata": {},
   "outputs": [],
   "source": []
  }
 ],
 "metadata": {
  "kernelspec": {
   "display_name": "Python 3",
   "language": "python",
   "name": "python3"
  },
  "language_info": {
   "codemirror_mode": {
    "name": "ipython",
    "version": 3
   },
   "file_extension": ".py",
   "mimetype": "text/x-python",
   "name": "python",
   "nbconvert_exporter": "python",
   "pygments_lexer": "ipython3",
   "version": "3.7.5"
  }
 },
 "nbformat": 4,
 "nbformat_minor": 2
}
