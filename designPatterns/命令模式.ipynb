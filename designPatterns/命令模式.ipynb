{
 "cells": [
  {
   "cell_type": "markdown",
   "metadata": {},
   "source": [
    "#### 命令模式就是将命令发送和实现分开，通过中间件命令连接两者\n"
   ]
  },
  {
   "cell_type": "code",
   "execution_count": 6,
   "metadata": {},
   "outputs": [
    {
     "name": "stdout",
     "output_type": "stream",
     "text": [
      "保存数据:我们友好的人民\n",
      "获取数据\n"
     ]
    },
    {
     "data": {
      "text/plain": [
       "'任何能够用 JavaScript 实现的应用系统，最终都必将用 JavaScript 实现'"
      ]
     },
     "execution_count": 6,
     "metadata": {},
     "output_type": "execute_result"
    }
   ],
   "source": [
    "class Command(object):\n",
    "    def execute(self,data):\n",
    "        pass\n",
    "class DataSaver(object):\n",
    "    def execute(self,data):\n",
    "        print('保存数据:'+data)\n",
    "class DataGetter(object):\n",
    "    def execute(self):\n",
    "        print('获取数据')\n",
    "        return '任何能够用 JavaScript 实现的应用系统，最终都必将用 JavaScript 实现'\n",
    "class SaveCommand(Command):\n",
    "    def __init__(self,saver):\n",
    "        self.__saver = saver\n",
    "    def execute(self,data):\n",
    "        self.__saver.execute(data)\n",
    "class GetCommand(Command):\n",
    "    def __init__(self,getter):\n",
    "        self.__getter = getter\n",
    "    def execute(self,data):\n",
    "        return self.__getter.execute()\n",
    "class Executer(object):\n",
    "    def __init__(self,*commands):\n",
    "        self.__commandList = list(commands)\n",
    "    def execute(self,comN,data = None):\n",
    "        if not self.__commandList[comN]:\n",
    "            return print('没有本命令')\n",
    "        return self.__commandList[comN].execute(data)\n",
    "##测试\n",
    "exter = Executer(SaveCommand(DataSaver()),GetCommand(DataGetter()))\n",
    "exter.execute(0,'我们友好的人民')\n",
    "exter.execute(1)"
   ]
  },
  {
   "cell_type": "code",
   "execution_count": null,
   "metadata": {},
   "outputs": [],
   "source": []
  }
 ],
 "metadata": {
  "kernelspec": {
   "display_name": "Python 3",
   "language": "python",
   "name": "python3"
  },
  "language_info": {
   "codemirror_mode": {
    "name": "ipython",
    "version": 3
   },
   "file_extension": ".py",
   "mimetype": "text/x-python",
   "name": "python",
   "nbconvert_exporter": "python",
   "pygments_lexer": "ipython3",
   "version": "3.7.5"
  }
 },
 "nbformat": 4,
 "nbformat_minor": 2
}
