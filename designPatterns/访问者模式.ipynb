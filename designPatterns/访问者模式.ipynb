{
 "cells": [
  {
   "cell_type": "markdown",
   "metadata": {},
   "source": [
    "####  将数据的不同操作封装到不同的类"
   ]
  },
  {
   "cell_type": "code",
   "execution_count": 1,
   "metadata": {},
   "outputs": [],
   "source": [
    "class Visite(object) :\n",
    "    def accept(self, visitor) :\n",
    "        visitor.visit(self)\n",
    "class Vistior(object) :\n",
    "    def visit(self, visite) :\n",
    "        pass\n",
    "        \n",
    "class Teacher(Visite) :\n",
    "    def __init__(self,**features) :\n",
    "        for k, v in features.items() :\n",
    "            self.__dict__[k] = v\n",
    "class Student(Visite) :\n",
    "    def __init__(self,**features) :\n",
    "        for k, v in features.items() :\n",
    "            self.__dict__[k] = v\n",
    "            \n",
    "            \n",
    "class Parent(Vistior) :\n",
    "    def visit(self, visite) :\n",
    "        super().visit(visite)\n",
    "        if isinstance(visite, Teacher) :\n",
    "            print(visite.character)\n",
    "        elif isinstance(visite, Student) :\n",
    "            print(visite.score, visite.character)\n",
    "class Leader(Vistior) :\n",
    "    def visit(self, visite) :\n",
    "        super().visit(visite)\n",
    "        if isinstance(visite, Teacher) :\n",
    "            print(visite.teachSkill, visite.character, visite.leadAbility)\n",
    "        elif isinstance(visite, Student) :\n",
    "            print(visite.character)\n",
    "            \n",
    "class SchoolPeople(list) :\n",
    "    def accept(self,visitor) :\n",
    "        for person in self :\n",
    "            person.accept(visitor)"
   ]
  },
  {
   "cell_type": "code",
   "execution_count": 3,
   "metadata": {},
   "outputs": [
    {
     "name": "stdout",
     "output_type": "stream",
     "text": [
      "教的学生非常好 温柔不暴燥 领导能力强\n",
      "教学不好 暴燥易怒 领导能力很差\n",
      "温柔可爱\n",
      "活泼好动\n"
     ]
    }
   ],
   "source": [
    "school = SchoolPeople()\n",
    "features1 = {\n",
    "    'name' : 'liming',\n",
    "    'character' : '温柔不暴燥',\n",
    "    'teachSkill' : '教的学生非常好',\n",
    "    'leadAbility' : '领导能力强',\n",
    "}\n",
    "features2 = {\n",
    "    'name' : '王刚',\n",
    "    'character' : '暴燥易怒',\n",
    "    'teachSkill' : '教学不好',\n",
    "    'leadAbility' : '领导能力很差',\n",
    "}\n",
    "features3 = {\n",
    "    'name' : '周亚夫',\n",
    "    'character' : '温柔可爱',\n",
    "    'score' : 89\n",
    "}\n",
    "features4 = {\n",
    "    'name' : '王大',\n",
    "    'character' : '活泼好动',\n",
    "    'score' : 99\n",
    "}\n",
    "school.append(Teacher(**features1))\n",
    "school.append(Teacher(**features2))\n",
    "school.append(Student(**features3))\n",
    "school.append(Student(**features4))\n",
    "vistior = Leader()\n",
    "school.accept(vistior)"
   ]
  },
  {
   "cell_type": "code",
   "execution_count": null,
   "metadata": {},
   "outputs": [],
   "source": []
  }
 ],
 "metadata": {
  "kernelspec": {
   "display_name": "Python 3",
   "language": "python",
   "name": "python3"
  },
  "language_info": {
   "codemirror_mode": {
    "name": "ipython",
    "version": 3
   },
   "file_extension": ".py",
   "mimetype": "text/x-python",
   "name": "python",
   "nbconvert_exporter": "python",
   "pygments_lexer": "ipython3",
   "version": "3.7.5"
  }
 },
 "nbformat": 4,
 "nbformat_minor": 2
}
