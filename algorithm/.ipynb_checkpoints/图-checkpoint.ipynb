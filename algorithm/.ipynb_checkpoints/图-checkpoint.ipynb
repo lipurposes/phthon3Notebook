{
 "cells": [
  {
   "cell_type": "markdown",
   "metadata": {},
   "source": [
    "#### 图的概念\n",
    "    图分为 有向图和无向图\n",
    "    图的表示 邻接表（稀疏图）邻接矩阵（稠密图） \n",
    "    顶点的度\n",
    "    不管是无向图还是有向图，顶点数n，边数e和顶点的度数有 e = 所有顶点的度数之和的一半\n",
    "\n"
   ]
  },
  {
   "cell_type": "markdown",
   "metadata": {},
   "source": [
    "##### 图的创建和遍历"
   ]
  },
  {
   "cell_type": "code",
   "execution_count": 14,
   "metadata": {},
   "outputs": [],
   "source": [
    "### 图的创建 邻接表\n",
    "class GraphNode(object):\n",
    "    def __init__(self, data):\n",
    "        self._data = data\n",
    "        self._firstEdge = None\n",
    "        self._in = 0\n",
    "    @property\n",
    "    def data(self):\n",
    "        return self._data\n",
    "    @property\n",
    "    def firstEdge(self):\n",
    "        return self._firstEdge\n",
    "    @firstEdge.setter\n",
    "    def firstEdge(self, edge):\n",
    "        self._firstEdge = edge\n",
    "    @property\n",
    "    def inDgree(self) :\n",
    "        return self._in\n",
    "    def addIn(self) :\n",
    "        self._in += 1\n",
    "    def minusIn(self) :\n",
    "        self._in -= 1\n",
    "class GraphEdge(object):\n",
    "    def __init__(self, linkedPos, weight):\n",
    "        self._linked = linkedPos\n",
    "        self._weight = weight\n",
    "        self._nextEdge = None\n",
    "    @property\n",
    "    def nextEdge(self):\n",
    "        return self._nextEdge\n",
    "    @nextEdge.setter\n",
    "    def nextEdge(self, nextEdge):\n",
    "        self._nextEdge = nextEdge\n",
    "    @property\n",
    "    def linkedPos(self) :\n",
    "        return self._linked\n",
    "    @property\n",
    "    def weight(self) :\n",
    "        return self._weight\n",
    "class Graph(object):\n",
    "    def __init__(self, isDirected):\n",
    "        self._vertexNum = 0\n",
    "        self._edgeNum = 0\n",
    "        self._nodeList = []\n",
    "        self._isDirected = isDirected\n",
    "    def addVertex(self, node):\n",
    "        self._nodeList.append(node)\n",
    "        self._vertexNum += 1\n",
    "    def getVertex(self, pos):\n",
    "        if pos < len(self._nodeList) :\n",
    "            return self._nodeList[pos]\n",
    "        return None\n",
    "    def addEdge(self, posL, posR, weight) :\n",
    "        posL,posR = posL - 1,posR - 1\n",
    "        edge = GraphEdge(posR, weight)\n",
    "        vertex = self.getVertex(posL)\n",
    "        edge.nextEdge = vertex.firstEdge\n",
    "        vertex.firstEdge = edge\n",
    "        vertex = self.getVertex(posR)\n",
    "        vertex.addIn()\n",
    "        if not self._isDirected :\n",
    "            edge = GraphEdge(posL, weight)\n",
    "            vertex = self.getVertex(posR)\n",
    "            edge.nextEdge = vertex.firstEdge\n",
    "            vertex.firstEdge = edge\n",
    "            vertex = self.getVertex(posL)\n",
    "            vertex.addIn()\n",
    "        self._edgeNum += 1\n",
    "    @property    \n",
    "    def nodeList(self) :\n",
    "        return self._nodeList\n",
    "    @property\n",
    "    def length(self) :\n",
    "        return self._vertexNum\n",
    "    def __str__(self):\n",
    "        #深度搜索\n",
    "        ret = \"\"\n",
    "        vertexVisited = [0] * self._vertexNum\n",
    "        def visitVertex(pos) :\n",
    "            nonlocal ret   #测试使用，能用其它方法最好用其它方法 \n",
    "            if vertexVisited[pos] == 1 :\n",
    "                return\n",
    "            vertexVisited[pos] = 1\n",
    "            vertex = self.getVertex(pos)\n",
    "            ret = ret + str(vertex.data) + \" \"\n",
    "            edge = vertex.firstEdge\n",
    "            while edge :\n",
    "                visitVertex(edge.linkedPos)\n",
    "                edge = edge.nextEdge\n",
    "        visitVertex(0)\n",
    "        return ret"
   ]
  },
  {
   "cell_type": "code",
   "execution_count": 15,
   "metadata": {},
   "outputs": [
    {
     "name": "stdout",
     "output_type": "stream",
     "text": [
      "1 8 7 5 6 2 4 3 \n"
     ]
    }
   ],
   "source": [
    "testGraph = Graph(False)\n",
    "testGraph.addVertex(GraphNode(1))\n",
    "testGraph.addVertex(GraphNode(2))\n",
    "testGraph.addVertex(GraphNode(3))\n",
    "testGraph.addVertex(GraphNode(4))\n",
    "testGraph.addVertex(GraphNode(5))\n",
    "testGraph.addVertex(GraphNode(6))\n",
    "testGraph.addVertex(GraphNode(7))\n",
    "testGraph.addVertex(GraphNode(8))\n",
    "testGraph.addEdge(1, 3, 3)\n",
    "testGraph.addEdge(1, 8, 7)\n",
    "testGraph.addEdge(3, 4, 2)\n",
    "testGraph.addEdge(2, 6, 5)\n",
    "testGraph.addEdge(2, 4, 7)\n",
    "testGraph.addEdge(5, 6, 11)\n",
    "testGraph.addEdge(5, 7, 9)\n",
    "testGraph.addEdge(7, 8, 6)\n",
    "print(testGraph)"
   ]
  },
  {
   "cell_type": "code",
   "execution_count": 16,
   "metadata": {},
   "outputs": [
    {
     "name": "stdout",
     "output_type": "stream",
     "text": [
      "1\n",
      "8\n",
      "3\n",
      "7\n",
      "4\n",
      "5\n",
      "2\n",
      "6\n"
     ]
    }
   ],
   "source": [
    "#广度搜索 利用栈\n",
    "def visitGraph(graph) :\n",
    "    visitList = []\n",
    "    vertexVisited = [0] * graph.length\n",
    "    if graph.length > 0 :\n",
    "        visitList.append(0)\n",
    "        vertexVisited[0] = 1\n",
    "    while len(visitList) > 0 :\n",
    "        pos = visitList.pop(0)\n",
    "        vertex = graph.getVertex(pos)\n",
    "        print(vertex.data)\n",
    "        edge = vertex.firstEdge\n",
    "        while edge :\n",
    "            if vertexVisited[edge.linkedPos] != 1 :\n",
    "                visitList.append(edge.linkedPos)\n",
    "                vertexVisited[edge.linkedPos] = 1\n",
    "            edge = edge.nextEdge\n",
    "visitGraph(testGraph)"
   ]
  },
  {
   "cell_type": "code",
   "execution_count": 17,
   "metadata": {},
   "outputs": [],
   "source": [
    "#马踏棋牌问题"
   ]
  },
  {
   "cell_type": "markdown",
   "metadata": {},
   "source": [
    "#### 最小生成树"
   ]
  },
  {
   "cell_type": "code",
   "execution_count": 18,
   "metadata": {},
   "outputs": [
    {
     "name": "stdout",
     "output_type": "stream",
     "text": [
      "1\n",
      "cur vertex 3\n",
      "add vertex 4\n",
      "add vertex 1\n",
      "2\n",
      "cur vertex 4\n",
      "add vertex 2\n",
      "2\n",
      "cur vertex 1\n",
      "add vertex 8\n",
      "2\n",
      "cur vertex 2\n",
      "add vertex 6\n",
      "2\n",
      "cur vertex 6\n",
      "add vertex 5\n",
      "2\n",
      "cur vertex 8\n",
      "add vertex 7\n",
      "2\n",
      "cur vertex 7\n",
      "1\n",
      "1\n",
      "cur vertex 5\n",
      "[3, 4, 1, 2, 6, 8, 7, 5]\n"
     ]
    }
   ],
   "source": [
    "#prime算法（顶点算法）\n",
    "import queue\n",
    "def prime(graph,pos) :\n",
    "    que = queue.PriorityQueue()  #优先队列\n",
    "    spanningTree = []      #生成树顶点\n",
    "    visited = [0] * graph.length  #已访问顶点\n",
    "    vertexWeight = {}\n",
    "    \n",
    "    vertexWeight[pos] = 0\n",
    "    que.put((0,pos))\n",
    "    visited[pos] = 1\n",
    "    while que.qsize() > 0 :\n",
    "        print(que.qsize())\n",
    "        curVertex = que.get()\n",
    "        if vertexWeight[curVertex[1]] < curVertex[0] :\n",
    "            que.put((vertexWeight[curVertex[1]],curVertex[1]))\n",
    "            continue\n",
    "        print('cur vertex', graph.getVertex(curVertex[1]).data)\n",
    "        spanningTree.append(curVertex[1])\n",
    "        vertex = graph.getVertex(curVertex[1])\n",
    "        edge = vertex.firstEdge\n",
    "        while edge :\n",
    "            if visited[edge.linkedPos] == 1:\n",
    "                if edge.weight < vertexWeight[edge.linkedPos] :\n",
    "                    vertexWeight[edge.linkedPos] = edge.weight\n",
    "            else :\n",
    "                vertexWeight[edge.linkedPos] = edge.weight\n",
    "                visited[edge.linkedPos] = 1\n",
    "                que.put((edge.weight,edge.linkedPos))\n",
    "                print(\"add vertex\", graph.getVertex(edge.linkedPos).data)\n",
    "            edge = edge.nextEdge\n",
    "    print([graph.getVertex(pos).data for pos in spanningTree])\n",
    "#测试\n",
    "prime(testGraph,2)"
   ]
  },
  {
   "cell_type": "code",
   "execution_count": 19,
   "metadata": {},
   "outputs": [
    {
     "name": "stdout",
     "output_type": "stream",
     "text": [
      "3 4 2\n",
      "1 3 3\n",
      "2 6 5\n",
      "7 8 6\n",
      "2 4 7\n",
      "1 8 7\n",
      "5 7 9\n",
      "5 6 11\n"
     ]
    }
   ],
   "source": [
    "#Kruskal算法（边算法）\n",
    "class EdgeFull(object) :\n",
    "    def __init__(self,begin,end,weight) :\n",
    "        self._begin = begin\n",
    "        self._end = end\n",
    "        self._weight = weight\n",
    "    @property\n",
    "    def begin(self) :\n",
    "        return self._begin\n",
    "    @property\n",
    "    def end(self) :\n",
    "        return self._end\n",
    "    @property\n",
    "    def weight(self) :\n",
    "        return self._weight\n",
    "    def __cmp__(self, other) :\n",
    "        return cmp(self._weight, other._weight)\n",
    "    def __lt__(self, other) :\n",
    "        return self._weight < other._weight\n",
    "def createEdgeQueue(graph) :\n",
    "    que = queue.PriorityQueue()\n",
    "    for index in range(0,graph.length) :\n",
    "        vertex = graph.getVertex(index)\n",
    "        edge = vertex.firstEdge\n",
    "        while edge :\n",
    "            if edge.linkedPos > index :\n",
    "                que.put(EdgeFull(index,edge.linkedPos,edge.weight))\n",
    "            edge = edge.nextEdge\n",
    "    return que\n",
    "    \n",
    "vertexLinked = [0] * testGraph.length\n",
    "def getLinkedVertex(pos) :\n",
    "    if vertexLinked[pos] != 0 :\n",
    "        pos = vertexLinked[pos]\n",
    "    return pos\n",
    "def kruskal(graph) :\n",
    "    que = createEdgeQueue(graph)\n",
    "    retEdge = []\n",
    "    while que.qsize() > 0 :\n",
    "        edge = que.get()\n",
    "        begin = getLinkedVertex(edge.begin)\n",
    "        end = getLinkedVertex(edge.end)\n",
    "        if begin != end :\n",
    "            retEdge.append(edge)\n",
    "    return retEdge\n",
    "edgeList = kruskal(testGraph)\n",
    "for edge in edgeList :\n",
    "    print(testGraph.getVertex(edge.begin).data, testGraph.getVertex(edge.end).data, edge.weight)"
   ]
  },
  {
   "cell_type": "markdown",
   "metadata": {},
   "source": [
    "#### 图的最短路径算法\n",
    "1. 深度优先搜索\n",
    "2. Floyd（弗洛伊德）算法：多源最短路径算法，顶点松弛算法（可以有负权边，不可以有负权环）\n",
    "3. Bellman-ford 算法：单源最短路径算法，边松弛算法（可以有负权边，可以检测负权环）\n",
    "4. Dijkstra(迪杰斯特拉)算法：单源最短路径算法，贪心算法（不可以有负权边）"
   ]
  },
  {
   "cell_type": "code",
   "execution_count": 20,
   "metadata": {},
   "outputs": [
    {
     "name": "stdout",
     "output_type": "stream",
     "text": [
      "1\n",
      "cur vertex 3\n",
      "add vertex 4\n",
      "add vertex 1\n",
      "2\n",
      "cur vertex 4\n",
      "add vertex 2\n",
      "2\n",
      "cur vertex 1\n",
      "add vertex 8\n",
      "2\n",
      "cur vertex 2\n",
      "add vertex 6\n",
      "2\n",
      "cur vertex 8\n",
      "add vertex 7\n",
      "2\n",
      "cur vertex 6\n",
      "add vertex 5\n",
      "2\n",
      "cur vertex 7\n",
      "1\n",
      "cur vertex 5\n",
      "[1, 2, 3, 4, 5, 6, 7, 8] \n",
      "[3, 4, 3, 3, 6, 2, 8, 1] "
     ]
    }
   ],
   "source": [
    "#Dijkstra(迪杰斯特拉)算法\n",
    "def dijkstra(graph,pos) :\n",
    "    que = queue.PriorityQueue()  #优先队列\n",
    "    path = [-1] * graph.length #保存路径前一个顶点位置\n",
    "    visited = [0] * graph.length  #已访问顶点\n",
    "    vertexWeight = {}\n",
    "    vertexWeight[pos] = 0\n",
    "    path[pos] = pos\n",
    "    que.put((0,pos))\n",
    "    visited[pos] = 1\n",
    "    while que.qsize() > 0 :\n",
    "        print(que.qsize())\n",
    "        curVertex = que.get()\n",
    "        if vertexWeight[curVertex[1]] < curVertex[0] :\n",
    "            que.put((vertexWeight[curVertex[1]],curVertex[1]))\n",
    "            continue\n",
    "        print('cur vertex', graph.getVertex(curVertex[1]).data)\n",
    "        vertex = graph.getVertex(curVertex[1])\n",
    "        edge = vertex.firstEdge\n",
    "        while edge :\n",
    "            if visited[edge.linkedPos] == 1:\n",
    "                if edge.weight + vertexWeight[curVertex[1]] < vertexWeight[edge.linkedPos] :\n",
    "                    vertexWeight[edge.linkedPos] = edge.weight + vertexWeight[curVertex[1]]\n",
    "                    path[edge.linkedPos] = curVertex[1]\n",
    "            else :\n",
    "                vertexWeight[edge.linkedPos] = edge.weight + vertexWeight[curVertex[1]]\n",
    "                path[edge.linkedPos] = curVertex[1]\n",
    "                visited[edge.linkedPos] = 1\n",
    "                que.put((edge.weight + vertexWeight[curVertex[1]],edge.linkedPos))\n",
    "                print(\"add vertex\", graph.getVertex(edge.linkedPos).data)\n",
    "            edge = edge.nextEdge\n",
    "    print([graph.getVertex(pos).data for pos in range(0,graph.length)],end = \" \")        \n",
    "    print()\n",
    "    print([graph.getVertex(pos).data for pos in path],end = \" \")\n",
    "#测试\n",
    "dijkstra(testGraph,2)\n"
   ]
  },
  {
   "cell_type": "code",
   "execution_count": 21,
   "metadata": {},
   "outputs": [
    {
     "name": "stdout",
     "output_type": "stream",
     "text": [
      "[1, 2, 3, 4, 5, 6, 7, 8] \n",
      "[3, 4, 3, 3, 6, 2, 8, 1] "
     ]
    },
    {
     "data": {
      "text/plain": [
       "True"
      ]
     },
     "execution_count": 21,
     "metadata": {},
     "output_type": "execute_result"
    }
   ],
   "source": [
    "#Bellman-ford算法\n",
    "def createEdgeList(graph) :\n",
    "    edgeList = []\n",
    "    for index in range(0,graph.length) :\n",
    "        vertex = graph.getVertex(index)\n",
    "        edge = vertex.firstEdge\n",
    "        while edge :\n",
    "            edgeList.append(EdgeFull(index,edge.linkedPos,edge.weight))\n",
    "            edge = edge.nextEdge\n",
    "    return edgeList\n",
    "path = [-1] * testGraph.length\n",
    "path[2] = 2\n",
    "edgeList = createEdgeList(testGraph)\n",
    "def bellmanFord(graph, edgeList, pos) :\n",
    "    MAXDIS = 999999\n",
    "    dis = [MAXDIS] * graph.length\n",
    "    dis[pos] = 0\n",
    "    for k in range(0,graph.length - 1) :\n",
    "        isRelax = False\n",
    "        for i in range(0, len(edgeList)) :\n",
    "            if dis[edgeList[i].end] > dis[edgeList[i].begin] + edgeList[i].weight :\n",
    "                dis[edgeList[i].end] = dis[edgeList[i].begin] + edgeList[i].weight\n",
    "                path[edgeList[i].end] = edgeList[i].begin\n",
    "                isRelax = True\n",
    "        if not isRelax :\n",
    "            break\n",
    "    for i in range(0, len(edgeList)) :  #是否有负权环\n",
    "        if dis[edgeList[i].end] > dis[edgeList[i].begin] + edgeList[i].weight :\n",
    "            return False\n",
    "    print([graph.getVertex(pos).data for pos in range(0,graph.length)],end = \" \")        \n",
    "    print()\n",
    "    print([graph.getVertex(pos).data for pos in path],end = \" \")\n",
    "    return True\n",
    "bellmanFord(testGraph, edgeList, 2)\n"
   ]
  },
  {
   "cell_type": "markdown",
   "metadata": {},
   "source": [
    "#### 拓扑图和关键路径"
   ]
  },
  {
   "cell_type": "code",
   "execution_count": 45,
   "metadata": {},
   "outputs": [
    {
     "name": "stdout",
     "output_type": "stream",
     "text": [
      "1 2 5 8 9 10 3 4 7 6 \n"
     ]
    }
   ],
   "source": [
    "testGraph = Graph(True)\n",
    "testGraph.addVertex(GraphNode(1))\n",
    "testGraph.addVertex(GraphNode(2))\n",
    "testGraph.addVertex(GraphNode(3))\n",
    "testGraph.addVertex(GraphNode(4))\n",
    "testGraph.addVertex(GraphNode(5))\n",
    "testGraph.addVertex(GraphNode(6))\n",
    "testGraph.addVertex(GraphNode(7))\n",
    "testGraph.addVertex(GraphNode(8))\n",
    "testGraph.addVertex(GraphNode(9))\n",
    "testGraph.addVertex(GraphNode(10))\n",
    "testGraph.addEdge(1, 3, 2)\n",
    "testGraph.addEdge(1, 2, 3)\n",
    "testGraph.addEdge(3, 4, 7)\n",
    "testGraph.addEdge(2, 5, 2)\n",
    "testGraph.addEdge(4, 6, 3)\n",
    "testGraph.addEdge(4, 7, 1)\n",
    "testGraph.addEdge(5, 8, 3)\n",
    "testGraph.addEdge(6, 9, 3)\n",
    "testGraph.addEdge(7, 9, 2)\n",
    "testGraph.addEdge(8, 9, 1)\n",
    "testGraph.addEdge(9, 10, 3)\n",
    "print(testGraph)"
   ]
  },
  {
   "cell_type": "code",
   "execution_count": 46,
   "metadata": {},
   "outputs": [
    {
     "name": "stdout",
     "output_type": "stream",
     "text": [
      "[0, 1, 2, 4, 3, 7, 6, 5, 8, 9]\n",
      "[0, 3, 2, 9, 5, 12, 10, 8, 15, 18]\n"
     ]
    }
   ],
   "source": [
    "etv = [0] * testGraph.length  #顶点最早开始时间\n",
    "topicalList = []  #顶点拓扑序列\n",
    "def getTopicalList(Gragh) :\n",
    "    stack = []\n",
    "    for pos in range(0, Gragh.length) :\n",
    "        if Gragh.getVertex(pos).inDgree == 0 :\n",
    "            stack.append(pos)\n",
    "    while len(stack) > 0 :\n",
    "        pos = stack.pop(0)\n",
    "        topicalList.append(pos)\n",
    "        vertex = Gragh.getVertex(pos)\n",
    "        edge = vertex.firstEdge\n",
    "        while edge :\n",
    "            if etv[pos] + edge.weight > etv[edge.linkedPos] :\n",
    "                etv[edge.linkedPos] = etv[pos] + edge.weight\n",
    "            vertex = Gragh.getVertex(edge.linkedPos)\n",
    "            vertex.minusIn()\n",
    "            if vertex.inDgree == 0 :\n",
    "                stack.append(edge.linkedPos)\n",
    "            edge = edge.nextEdge\n",
    "getTopicalList(testGraph)\n",
    "print(topicalList)\n",
    "print(etv)\n",
    "ltv = [etv[testGraph.length - 1]] * testGraph.length  #顶点最晚开始时间\n",
    "essentialVertexs = []\n",
    "def getEssentialVertex(Graph) :\n",
    "    while len(topicalList) > 0 :\n",
    "        pos = topicalList.pop()\n",
    "        vertex = Graph.getVertex(pos)\n",
    "        edge = vertex.firstEdge\n",
    "        while edge :\n",
    "            if ltv[pos] + edge.weight > ltv[edge.linkedPos] :\n",
    "                ltv[pos] = ltv[edge.linkedPos] - edge.weight\n",
    "            edge = edge.nextEdge\n",
    "    for i in range(0, Graph.length) :\n",
    "        if etv[i] == ltv[i] :\n",
    "            essentialVertexs.append(Graph.getVertex(i).data)\n",
    "getEssentialVertex(testGraph)\n",
    "print(essentialVertexs)\n"
   ]
  },
  {
   "cell_type": "code",
   "execution_count": null,
   "metadata": {},
   "outputs": [],
   "source": []
  }
 ],
 "metadata": {
  "kernelspec": {
   "display_name": "Python 3",
   "language": "python",
   "name": "python3"
  },
  "language_info": {
   "codemirror_mode": {
    "name": "ipython",
    "version": 3
   },
   "file_extension": ".py",
   "mimetype": "text/x-python",
   "name": "python",
   "nbconvert_exporter": "python",
   "pygments_lexer": "ipython3",
   "version": "3.7.5"
  }
 },
 "nbformat": 4,
 "nbformat_minor": 2
}
