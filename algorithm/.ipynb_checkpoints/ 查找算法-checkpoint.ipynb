{
 "cells": [
  {
   "cell_type": "markdown",
   "metadata": {},
   "source": [
    "### 查找算法\n",
    "1. 二分查找以及引申插值插值，黄金分割点查找\n",
    "2. 二分查找树"
   ]
  },
  {
   "cell_type": "code",
   "execution_count": 1,
   "metadata": {},
   "outputs": [
    {
     "name": "stdout",
     "output_type": "stream",
     "text": [
      "3 6 6.5 7 7.1 7.5 7.6 8 9 10 \n",
      "3 6 6.5 7 7.1 7.5 7.6 8 8.8 9 10 \n",
      "3 6 6.5 7 7.1 7.5 7.6 8.8 9 10 \n"
     ]
    }
   ],
   "source": [
    "#二分查找树\n",
    "class BSTree(object):\n",
    "    def __init__(self):\n",
    "        self.first = None\n",
    "\n",
    "    def search(self, data):\n",
    "        def searchNode(node, data, parent):\n",
    "            if not node:\n",
    "                return (None, parent)\n",
    "            if node.data == data:\n",
    "                return (node, parent)\n",
    "            elif data < node.data:\n",
    "                return searchNode(node.left, data, node)\n",
    "            else:\n",
    "                return searchNode(node.right, data, node)\n",
    "\n",
    "        return searchNode(self.first, data, None)\n",
    "\n",
    "    def add(self, data):\n",
    "        node, parent = self.search(data)\n",
    "        if node:\n",
    "            return False\n",
    "        else:\n",
    "            inNode = TreeNode(data)\n",
    "            if parent:\n",
    "                if data < parent.data:\n",
    "                    parent.left = inNode\n",
    "                else:\n",
    "                    parent.right = inNode\n",
    "            else:\n",
    "                self.first = inNode\n",
    "        return True\n",
    "\n",
    "    def delete(self, data):\n",
    "        node, parent = self.search(data)\n",
    "        if not node:\n",
    "            return False\n",
    "        if node.right is None or node.left is None:\n",
    "            isLeft = True\n",
    "            if node.data > parent.data:\n",
    "                isLeft = False\n",
    "            if isLeft:\n",
    "                parent.left = (node.left is None and node.right or node.left)\n",
    "            else:\n",
    "                parent.right = (node.left is None and node.right or node.left)\n",
    "        else:\n",
    "            p = node\n",
    "            s = p.right\n",
    "            while s.left:\n",
    "                p = s\n",
    "                s = p.left\n",
    "            node.data = s.data\n",
    "            if p == node:\n",
    "                print(node.data)\n",
    "                node.right = s.right\n",
    "            else:\n",
    "                p.left = s.right\n",
    "\n",
    "    def __str__(self):\n",
    "        retStr = \"\"\n",
    "\n",
    "        def walk(node):\n",
    "            if not node:\n",
    "                return\n",
    "            walk(node.left)\n",
    "            nonlocal retStr\n",
    "            retStr += str(node.data)\n",
    "            retStr += \" \"\n",
    "            walk(node.right)\n",
    "\n",
    "        walk(self.first)\n",
    "        return retStr\n",
    "\n",
    "\n",
    "class TreeNode(object):\n",
    "    def __init__(self, data):\n",
    "        self.left = None\n",
    "        self.right = None\n",
    "        self.data = data\n",
    "\n",
    "\n",
    "# test\n",
    "bsTree = BSTree()\n",
    "bsTree.add(7)\n",
    "bsTree.add(6)\n",
    "bsTree.add(8)\n",
    "bsTree.add(3)\n",
    "bsTree.add(6.5)\n",
    "bsTree.add(7.5)\n",
    "bsTree.add(9)\n",
    "bsTree.add(7.1)\n",
    "bsTree.add(7.6)\n",
    "bsTree.add(10)\n",
    "\n",
    "print(bsTree)\n",
    "bsTree.add(8.8)\n",
    "print(bsTree)\n",
    "bsTree.delete(8)\n",
    "print(bsTree)\n",
    "\n",
    "    "
   ]
  },
  {
   "cell_type": "markdown",
   "metadata": {},
   "source": [
    "#### 查找算法还有平衡二叉树，红黑树， B树等\n",
    "####  最后是散列（哈希）查找"
   ]
  },
  {
   "cell_type": "code",
   "execution_count": null,
   "metadata": {},
   "outputs": [],
   "source": []
  }
 ],
 "metadata": {
  "kernelspec": {
   "display_name": "Python 3",
   "language": "python",
   "name": "python3"
  },
  "language_info": {
   "codemirror_mode": {
    "name": "ipython",
    "version": 3
   },
   "file_extension": ".py",
   "mimetype": "text/x-python",
   "name": "python",
   "nbconvert_exporter": "python",
   "pygments_lexer": "ipython3",
   "version": "3.7.7"
  }
 },
 "nbformat": 4,
 "nbformat_minor": 2
}
