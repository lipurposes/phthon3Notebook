{
 "cells": [
  {
   "cell_type": "markdown",
   "metadata": {},
   "source": [
    "### 字符串匹配算法\n",
    "[参考网站（kmp算法）](https://blog.csdn.net/v_JULY_v/article/details/7041827)"
   ]
  },
  {
   "cell_type": "markdown",
   "metadata": {},
   "source": [
    "#####  1.首先想到的算法，BF（boyfriend,便于记忆）算法"
   ]
  },
  {
   "cell_type": "code",
   "execution_count": 7,
   "metadata": {},
   "outputs": [
    {
     "name": "stdout",
     "output_type": "stream",
     "text": [
      "找到的位置是 5\n",
      "找到的位置是 4\n"
     ]
    }
   ],
   "source": [
    "def findP(s,t):\n",
    "    sI = 0\n",
    "    tI = 0\n",
    "    while sI < len(s) and tI < len(t):\n",
    "        if s[sI] == t[tI]:\n",
    "            sI += 1\n",
    "            tI += 1\n",
    "        else:\n",
    "            sI -= (tI - 1)\n",
    "            tI = 0\n",
    "    if tI == len(t) :\n",
    "        return sI - tI\n",
    "    return -1\n",
    "###测试\n",
    "##测试英文串\n",
    "sStr = 'mtpecqrtwqtreanewudcoruvme'\n",
    "tStr = 'qrtw'\n",
    "pos = findP(sStr,tStr)\n",
    "print('找到的位置是',pos)\n",
    "##测试中文串\n",
    "sStr = '我门店的祖国很伟大热爱'\n",
    "tStr = '祖国很伟大'\n",
    "pos = findP(sStr,tStr)\n",
    "print('找到的位置是',pos)"
   ]
  },
  {
   "cell_type": "markdown",
   "metadata": {},
   "source": [
    "#### 2.kmp(看毛片)算法\n",
    "    分析模式串，利用模式串的规律，避免每次不匹配时直接回退到模式串起始\n",
    "    分两步：1.寻找next数组\n",
    "           2.类型Bf遍历"
   ]
  },
  {
   "cell_type": "code",
   "execution_count": 14,
   "metadata": {},
   "outputs": [
    {
     "name": "stdout",
     "output_type": "stream",
     "text": [
      "找到的位置是 5\n",
      "找到的位置是 4\n"
     ]
    }
   ],
   "source": [
    "#next数组每位表示匹配串当前位置前末端与前端有多少个字符相同，用于不匹配回退，并且还有一个优化，\n",
    "#假如当前位置字符与回退位置字符相同，再回退到回退位置的回退位置（为什么可以不往前，可以想想归纳证明方法）\n",
    "def getNext(t):\n",
    "    i = 0\n",
    "    j = -1\n",
    "    retList = [-1] * len(t)\n",
    "    while i < len(t) - 1: #注意这个细节，当i为最后位置时，最后位置已经设置值了，不能再循环了\n",
    "        if j == -1 or t[i] == t[j] :\n",
    "            i += 1\n",
    "            j += 1\n",
    "            if t[i] == t[j]:\n",
    "                retList[i] = retList[j]\n",
    "            else :\n",
    "                retList[i] = j\n",
    "        else:\n",
    "            j = retList[j]\n",
    "    return retList\n",
    "def findPKMP(s,t,nextList):\n",
    "    sI = 0\n",
    "    tI = 0\n",
    "    while sI < len(s) and tI < len(t):\n",
    "        if tI == -1 or s[sI] == t[tI]:\n",
    "            sI += 1\n",
    "            tI += 1\n",
    "        else:\n",
    "            tI = nextList[tI]\n",
    "    if tI == len(t) :\n",
    "        return sI - tI\n",
    "    return -1\n",
    "###测试\n",
    "##测试英文串\n",
    "sStr = 'mtpecqrtwqtreanewudcoruvme'\n",
    "tStr = 'qrtw'\n",
    "nextList = getNext(tStr)\n",
    "pos = findPKMP(sStr,tStr,nextList)\n",
    "print('找到的位置是',pos)\n",
    "##测试中文串\n",
    "sStr = '我门店的祖国很伟大热爱'\n",
    "tStr = '祖国很伟大'\n",
    "nextList = getNext(tStr)\n",
    "pos = findPKMP(sStr,tStr,nextList)\n",
    "print('找到的位置是',pos)"
   ]
  },
  {
   "cell_type": "code",
   "execution_count": null,
   "metadata": {},
   "outputs": [],
   "source": []
  }
 ],
 "metadata": {
  "kernelspec": {
   "display_name": "Python 3",
   "language": "python",
   "name": "python3"
  },
  "language_info": {
   "codemirror_mode": {
    "name": "ipython",
    "version": 3
   },
   "file_extension": ".py",
   "mimetype": "text/x-python",
   "name": "python",
   "nbconvert_exporter": "python",
   "pygments_lexer": "ipython3",
   "version": "3.7.5"
  }
 },
 "nbformat": 4,
 "nbformat_minor": 2
}
