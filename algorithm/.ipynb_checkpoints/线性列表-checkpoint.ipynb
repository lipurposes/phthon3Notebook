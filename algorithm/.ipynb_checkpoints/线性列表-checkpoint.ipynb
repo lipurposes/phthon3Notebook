{
 "cells": [
  {
   "cell_type": "markdown",
   "metadata": {},
   "source": [
    "###   一般用数组或链表的方式实现，这里总结链表实现的一些方法，细节及实例"
   ]
  },
  {
   "cell_type": "markdown",
   "metadata": {},
   "source": [
    "链表有单链表，双链表，循环链表，为了代码和逻辑的统一一般会设置哨兵节点，将链表的头或尾指针作为数据对象的入口"
   ]
  },
  {
   "cell_type": "markdown",
   "metadata": {},
   "source": [
    "#### 静态链表 "
   ]
  },
  {
   "cell_type": "markdown",
   "metadata": {},
   "source": [
    "##### 用数组模拟实现链表，不额外分配申请内存。\n",
    "1. 链表内存储的数据有游标和数据两个字段。\n",
    "2. 数组第一个元素游标存储未使用数组空间的起始位置，最后一个元素游标存储已使用位置的首个元素位置。"
   ]
  },
  {
   "cell_type": "code",
   "execution_count": 26,
   "metadata": {},
   "outputs": [],
   "source": [
    "\n",
    "#列表元素\n",
    "#两个字段，cur,data\n",
    "class ListElement(object):\n",
    "    def __init__(self,cur):\n",
    "        self.cur = cur or 0\n",
    "        self.data = None\n",
    "#静态列表\n",
    "class StaticList(object):\n",
    "    def __init__(self,listNum):\n",
    "        self.__length = listNum\n",
    "        self.list = []\n",
    "        for num in range(listNum - 2):\n",
    "            self.list.append(ListElement(num + 1))\n",
    "        self.list.append(ListElement(0))\n",
    "        self.list.append(ListElement(0))\n",
    "    #获取一个空元素\n",
    "    def __getEmptyEle(self):\n",
    "        if self.list[0].cur == 0:\n",
    "            return -1\n",
    "        retPos = self.list[0].cur\n",
    "        self.list[0].cur = self.list[retPos].cur\n",
    "        return retPos\n",
    "    #归还一个空元素\n",
    "    def __putEmptyEle(self,pos):\n",
    "        self.list[pos].cur = self.list[0].cur\n",
    "        self.list[0].cur = pos\n",
    "    #插入元素\n",
    "    def insert(self,value):\n",
    "        pos = self.__getEmptyEle()\n",
    "        if pos > 0 :\n",
    "            self.list[pos].data = value\n",
    "            self.list[pos].cur =  self.list[self.__length - 1].cur\n",
    "            self.list[self.__length - 1].cur = pos\n",
    "    #删除元素\n",
    "    def delete(self,value):\n",
    "        curEle = self.list[self.__length - 1]\n",
    "        nxtPos = curEle.cur\n",
    "        while nxtPos  != 0 :\n",
    "            if self.list[nxtPos].data == value:\n",
    "                curEle.cur = self.list[nxtPos].cur\n",
    "                return self.__putEmptyEle(nxtPos)\n",
    "            \n"
   ]
  },
  {
   "cell_type": "code",
   "execution_count": 28,
   "metadata": {},
   "outputs": [
    {
     "name": "stdout",
     "output_type": "stream",
     "text": [
      "3\n",
      "100\n",
      "0\n",
      "20\n",
      "1\n",
      "4\n",
      "5\n",
      "6\n",
      "7\n",
      "8\n",
      "0\n",
      "2\n"
     ]
    }
   ],
   "source": [
    "#测试\n",
    "list = StaticList(10)\n",
    "list.insert(100)\n",
    "list.insert(20)\n",
    "for ele in list.list :\n",
    "    if ele.data :\n",
    "        print(ele.data)\n",
    "        print(ele.cur)\n",
    "    else :\n",
    "        print(ele.cur)\n"
   ]
  },
  {
   "cell_type": "markdown",
   "metadata": {},
   "source": [
    "#### 一些列表应用"
   ]
  },
  {
   "cell_type": "markdown",
   "metadata": {},
   "source": [
    "##### 约瑟夫环问题"
   ]
  },
  {
   "cell_type": "code",
   "execution_count": 30,
   "metadata": {},
   "outputs": [
    {
     "ename": "TypeError",
     "evalue": "__init__() missing 1 required positional argument: 'value'",
     "output_type": "error",
     "traceback": [
      "\u001b[0;31m---------------------------------------------------------------------------\u001b[0m",
      "\u001b[0;31mTypeError\u001b[0m                                 Traceback (most recent call last)",
      "\u001b[0;32m<ipython-input-30-fee12aebbca4>\u001b[0m in \u001b[0;36m<module>\u001b[0;34m\u001b[0m\n\u001b[1;32m     10\u001b[0m \u001b[0mListNum\u001b[0m \u001b[0;34m=\u001b[0m \u001b[0;36m100\u001b[0m\u001b[0;34m\u001b[0m\u001b[0;34m\u001b[0m\u001b[0m\n\u001b[1;32m     11\u001b[0m \u001b[0mNumToSelect\u001b[0m \u001b[0;34m=\u001b[0m \u001b[0;36m7\u001b[0m\u001b[0;34m\u001b[0m\u001b[0;34m\u001b[0m\u001b[0m\n\u001b[0;32m---> 12\u001b[0;31m \u001b[0mhead\u001b[0m \u001b[0;34m=\u001b[0m \u001b[0mSglListNum\u001b[0m\u001b[0;34m(\u001b[0m\u001b[0;34m)\u001b[0m\u001b[0;34m\u001b[0m\u001b[0;34m\u001b[0m\u001b[0m\n\u001b[0m\u001b[1;32m     13\u001b[0m \u001b[0mcur\u001b[0m \u001b[0;34m=\u001b[0m \u001b[0mhead\u001b[0m\u001b[0;34m\u001b[0m\u001b[0;34m\u001b[0m\u001b[0m\n\u001b[1;32m     14\u001b[0m \u001b[0;32mfor\u001b[0m \u001b[0mi\u001b[0m \u001b[0;32min\u001b[0m \u001b[0mrange\u001b[0m\u001b[0;34m(\u001b[0m\u001b[0;36m100\u001b[0m\u001b[0;34m)\u001b[0m\u001b[0;34m:\u001b[0m\u001b[0;34m\u001b[0m\u001b[0;34m\u001b[0m\u001b[0m\n",
      "\u001b[0;31mTypeError\u001b[0m: __init__() missing 1 required positional argument: 'value'"
     ]
    }
   ],
   "source": [
    "# 使用双向循环列表\n",
    "class SglListNum(object):\n",
    "    def __init__(self,value):\n",
    "        self.data = value or None\n",
    "        self.next = None\n",
    "        self.pre = None\n",
    "    def __str__(self):\n",
    "        return str(self.data)\n",
    "#开始约瑟夫环问题解决\n",
    "ListNum = 100\n",
    "NumToSelect = 7\n",
    "head = SglListNum()\n",
    "cur = head\n",
    "for i in range(ListNum):\n",
    "    ele = SglListNum(i + 1)\n",
    "    cur.next = ele\n",
    "    ele.pre = cur\n",
    "    cur = ele\n",
    "cur.next = head.next\n",
    "head.next.pre = cur\n",
    "\n",
    "curListNum = ListNum\n",
    "curCheck = NumToSelect > curListNum and NumToSelect%curListNum or NumToSelect\n",
    "curEle = head.next\n",
    "curNum = 1\n",
    "while curEle.next != curEle:\n",
    "    if curNum >= curCheck :\n",
    "        print(curEle)\n",
    "        curListNum -= 1\n",
    "        curCheck = NumToSelect > curListNum and NumToSelect%curListNum or NumToSelect\n",
    "        curEle.next.pre = curEle.pre\n",
    "        curEle.pre.next = curEle.next\n",
    "        curEle = curEle.next\n",
    "        curNum = 1\n",
    "    curEle = curEle.next\n",
    "    curNum += 1\n",
    "\n"
   ]
  },
  {
   "cell_type": "code",
   "execution_count": null,
   "metadata": {},
   "outputs": [],
   "source": []
  },
  {
   "cell_type": "code",
   "execution_count": null,
   "metadata": {},
   "outputs": [],
   "source": []
  },
  {
   "cell_type": "code",
   "execution_count": null,
   "metadata": {},
   "outputs": [],
   "source": []
  },
  {
   "cell_type": "code",
   "execution_count": null,
   "metadata": {},
   "outputs": [],
   "source": []
  },
  {
   "cell_type": "code",
   "execution_count": null,
   "metadata": {},
   "outputs": [],
   "source": []
  },
  {
   "cell_type": "code",
   "execution_count": null,
   "metadata": {},
   "outputs": [],
   "source": []
  },
  {
   "cell_type": "code",
   "execution_count": null,
   "metadata": {},
   "outputs": [],
   "source": []
  },
  {
   "cell_type": "code",
   "execution_count": null,
   "metadata": {},
   "outputs": [],
   "source": []
  }
 ],
 "metadata": {
  "kernelspec": {
   "display_name": "Python 3",
   "language": "python",
   "name": "python3"
  },
  "language_info": {
   "codemirror_mode": {
    "name": "ipython",
    "version": 3
   },
   "file_extension": ".py",
   "mimetype": "text/x-python",
   "name": "python",
   "nbconvert_exporter": "python",
   "pygments_lexer": "ipython3",
   "version": "3.7.5"
  }
 },
 "nbformat": 4,
 "nbformat_minor": 2
}
