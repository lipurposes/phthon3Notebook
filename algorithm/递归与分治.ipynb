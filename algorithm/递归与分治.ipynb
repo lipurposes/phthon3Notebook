{
 "cells": [
  {
   "cell_type": "markdown",
   "metadata": {},
   "source": [
    "#### 递归的一些感悟\n",
    "    递归是解决由同样的规则层层推进导致的复杂问题的好的方法，结构清晰\n",
    "    递归必须有条件结束递归\n",
    "    递归是通过层层往下，然后层层解决回溯的过程，可以利用这个特性解决一些特殊问题：比如将未知长度的输入逆序输出"
   ]
  },
  {
   "cell_type": "code",
   "execution_count": 1,
   "metadata": {},
   "outputs": [
    {
     "data": {
      "text/plain": [
       "\"\\ndef revertPrint():\\n    curInput = getOneChar()  #获取输入缓存的一个字符\\n    if curInput != '#':# '#'代表输入结束 也是结束递归的条件\\n        revertPrint()\\n        print(curInput)\\n\""
      ]
     },
     "execution_count": 1,
     "metadata": {},
     "output_type": "execute_result"
    }
   ],
   "source": [
    "#将不定长输入逆序输出的伪代码\n",
    "'''\n",
    "def revertPrint():\n",
    "    curInput = getOneChar()  #获取输入缓存的一个字符\n",
    "    if curInput != '#':# '#'代表输入结束 也是结束递归的条件\n",
    "        revertPrint()\n",
    "        print(curInput)\n",
    "'''"
   ]
  },
  {
   "cell_type": "markdown",
   "metadata": {},
   "source": [
    "#### 递归经典例子"
   ]
  },
  {
   "cell_type": "code",
   "execution_count": 4,
   "metadata": {},
   "outputs": [
    {
     "name": "stdout",
     "output_type": "stream",
     "text": [
      "1 1 2 3 5 8 13 21 34 55 89 144 233 377 610 "
     ]
    }
   ],
   "source": [
    "#斐波那契数列\n",
    "#故事解释  一对兔子结合两个月后可以生一对兔子，兔子的对数增长队列为 1，1，2，3，5，8，13...\n",
    "def fib(count):  #第几个值,从0开始\n",
    "    if count == 0 or count == 1:\n",
    "        return 1\n",
    "    else :\n",
    "        return fib(count - 1) + fib(count - 2)\n",
    "print(fib(0),end= ' ')\n",
    "print(fib(1),end= ' ')\n",
    "print(fib(2),end= ' ')\n",
    "print(fib(3),end= ' ')\n",
    "print(fib(4),end= ' ')\n",
    "print(fib(5),end= ' ')\n",
    "print(fib(6),end= ' ')\n",
    "print(fib(7),end= ' ')\n",
    "print(fib(8),end= ' ')\n",
    "print(fib(9),end= ' ')\n",
    "print(fib(10),end= ' ')\n",
    "print(fib(11),end= ' ')\n",
    "print(fib(12),end= ' ')\n",
    "print(fib(13),end= ' ')\n",
    "print(fib(14),end= ' ')"
   ]
  },
  {
   "cell_type": "code",
   "execution_count": 7,
   "metadata": {},
   "outputs": [
    {
     "name": "stdout",
     "output_type": "stream",
     "text": [
      "A => C\n",
      "A => B\n",
      "C => B\n",
      "A => C\n",
      "B => A\n",
      "B => C\n",
      "A => C\n"
     ]
    }
   ],
   "source": [
    "#汉诺塔问题\n",
    "def movePiece(count,a,b,c): #参数意义 移动数量，起始位置，借助位置，最终位置\n",
    "    if count == 1 :\n",
    "        return print('%s => %s' %(a,c))    \n",
    "    movePiece(count - 1,a,c,b)\n",
    "    movePiece(1,a,b,c)\n",
    "    movePiece(count - 1,b,a,c)\n",
    "#测试\n",
    "a,b,c = 'A','B','C'\n",
    "movePiece(3,a,b,c)"
   ]
  },
  {
   "cell_type": "code",
   "execution_count": 8,
   "metadata": {},
   "outputs": [],
   "source": [
    "#n皇后问题\n",
    "#实现见位运算，运用递归与回溯法（深度优先遍历）"
   ]
  },
  {
   "cell_type": "code",
   "execution_count": null,
   "metadata": {},
   "outputs": [],
   "source": []
  },
  {
   "cell_type": "code",
   "execution_count": null,
   "metadata": {},
   "outputs": [],
   "source": []
  },
  {
   "cell_type": "code",
   "execution_count": null,
   "metadata": {},
   "outputs": [],
   "source": []
  },
  {
   "cell_type": "code",
   "execution_count": null,
   "metadata": {},
   "outputs": [],
   "source": []
  }
 ],
 "metadata": {
  "kernelspec": {
   "display_name": "Python 3",
   "language": "python",
   "name": "python3"
  },
  "language_info": {
   "codemirror_mode": {
    "name": "ipython",
    "version": 3
   },
   "file_extension": ".py",
   "mimetype": "text/x-python",
   "name": "python",
   "nbconvert_exporter": "python",
   "pygments_lexer": "ipython3",
   "version": "3.7.5"
  }
 },
 "nbformat": 4,
 "nbformat_minor": 2
}
