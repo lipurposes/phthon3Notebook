{
 "cells": [
  {
   "cell_type": "markdown",
   "metadata": {},
   "source": [
    "###   一般用数组或链表的方式实现，这里总结链表实现的一些方法，细节及实例"
   ]
  },
  {
   "cell_type": "markdown",
   "metadata": {},
   "source": [
    "链表有单链表，双链表，循环链表，为了代码和逻辑的统一一般会设置哨兵节点，将链表的头或尾指针作为数据对象的入口"
   ]
  },
  {
   "cell_type": "markdown",
   "metadata": {},
   "source": [
    "#### 静态链表 "
   ]
  },
  {
   "cell_type": "markdown",
   "metadata": {},
   "source": [
    "##### 用数组模拟实现链表，不额外分配申请内存。\n",
    "1. 链表内存储的数据有游标和数据两个字段。\n",
    "2. 数组第一个元素游标存储未使用数组空间的起始位置，最后一个元素游标存储已使用位置的首个元素位置。"
   ]
  },
  {
   "cell_type": "code",
   "execution_count": 26,
   "metadata": {},
   "outputs": [],
   "source": [
    "\n",
    "#列表元素\n",
    "#两个字段，cur,data\n",
    "class ListElement(object):\n",
    "    def __init__(self,cur):\n",
    "        self.cur = cur or 0\n",
    "        self.data = None\n",
    "#静态列表\n",
    "class StaticList(object):\n",
    "    def __init__(self,listNum):\n",
    "        self.__length = listNum\n",
    "        self.list = []\n",
    "        for num in range(listNum - 2):\n",
    "            self.list.append(ListElement(num + 1))\n",
    "        self.list.append(ListElement(0))\n",
    "        self.list.append(ListElement(0))\n",
    "    #获取一个空元素\n",
    "    def __getEmptyEle(self):\n",
    "        if self.list[0].cur == 0:\n",
    "            return -1\n",
    "        retPos = self.list[0].cur\n",
    "        self.list[0].cur = self.list[retPos].cur\n",
    "        return retPos\n",
    "    #归还一个空元素\n",
    "    def __putEmptyEle(self,pos):\n",
    "        self.list[pos].cur = self.list[0].cur\n",
    "        self.list[0].cur = pos\n",
    "    #插入元素\n",
    "    def insert(self,value):\n",
    "        pos = self.__getEmptyEle()\n",
    "        if pos > 0 :\n",
    "            self.list[pos].data = value\n",
    "            self.list[pos].cur =  self.list[self.__length - 1].cur\n",
    "            self.list[self.__length - 1].cur = pos\n",
    "    #删除元素\n",
    "    def delete(self,value):\n",
    "        curEle = self.list[self.__length - 1]\n",
    "        nxtPos = curEle.cur\n",
    "        while nxtPos  != 0 :\n",
    "            if self.list[nxtPos].data == value:\n",
    "                curEle.cur = self.list[nxtPos].cur\n",
    "                return self.__putEmptyEle(nxtPos)\n",
    "            \n"
   ]
  },
  {
   "cell_type": "code",
   "execution_count": 28,
   "metadata": {},
   "outputs": [
    {
     "name": "stdout",
     "output_type": "stream",
     "text": [
      "3\n",
      "100\n",
      "0\n",
      "20\n",
      "1\n",
      "4\n",
      "5\n",
      "6\n",
      "7\n",
      "8\n",
      "0\n",
      "2\n"
     ]
    }
   ],
   "source": [
    "#测试\n",
    "list = StaticList(10)\n",
    "list.insert(100)\n",
    "list.insert(20)\n",
    "for ele in list.list :\n",
    "    if ele.data :\n",
    "        print(ele.data)\n",
    "        print(ele.cur)\n",
    "    else :\n",
    "        print(ele.cur)\n"
   ]
  },
  {
   "cell_type": "markdown",
   "metadata": {},
   "source": [
    "#### 一些列表应用"
   ]
  },
  {
   "cell_type": "markdown",
   "metadata": {},
   "source": [
    "##### 约瑟夫环问题"
   ]
  },
  {
   "cell_type": "code",
   "execution_count": 34,
   "metadata": {},
   "outputs": [
    {
     "name": "stdout",
     "output_type": "stream",
     "text": [
      "7\n",
      "14\n",
      "21\n",
      "28\n",
      "35\n",
      "42\n",
      "49\n",
      "56\n",
      "63\n",
      "70\n",
      "77\n",
      "84\n",
      "91\n",
      "98\n",
      "5\n",
      "13\n",
      "22\n",
      "30\n",
      "38\n",
      "46\n",
      "54\n",
      "62\n",
      "71\n",
      "79\n",
      "87\n",
      "95\n",
      "3\n",
      "12\n",
      "23\n",
      "32\n",
      "41\n",
      "51\n",
      "60\n",
      "69\n",
      "80\n",
      "89\n",
      "99\n",
      "9\n",
      "19\n",
      "31\n",
      "43\n",
      "53\n",
      "65\n",
      "75\n",
      "86\n",
      "97\n",
      "10\n",
      "24\n",
      "36\n",
      "48\n",
      "61\n",
      "74\n",
      "88\n",
      "1\n",
      "16\n",
      "29\n",
      "45\n",
      "59\n",
      "76\n",
      "92\n",
      "6\n",
      "25\n",
      "40\n",
      "58\n",
      "78\n",
      "94\n",
      "15\n",
      "34\n",
      "55\n",
      "73\n",
      "96\n",
      "18\n",
      "44\n",
      "67\n",
      "90\n",
      "17\n",
      "47\n",
      "72\n",
      "2\n",
      "33\n",
      "66\n",
      "100\n",
      "37\n",
      "81\n",
      "11\n",
      "57\n",
      "4\n",
      "52\n",
      "8\n",
      "68\n",
      "27\n",
      "93\n",
      "83\n",
      "82\n",
      "20\n",
      "39\n",
      "85\n",
      "50\n",
      "26\n",
      "the left is:  64\n"
     ]
    }
   ],
   "source": [
    "# 使用双向循环列表\n",
    "class SglListNum(object):\n",
    "    def __init__(self,value = None):\n",
    "        self.data = value\n",
    "        self.next = None\n",
    "        self.pre = None\n",
    "    def __str__(self):\n",
    "        return str(self.data)\n",
    "#开始约瑟夫环问题解决\n",
    "ListNum = 100\n",
    "NumToSelect = 7\n",
    "head = SglListNum()\n",
    "cur = head\n",
    "for i in range(ListNum):\n",
    "    ele = SglListNum(i + 1)\n",
    "    cur.next = ele\n",
    "    ele.pre = cur\n",
    "    cur = ele\n",
    "cur.next = head.next\n",
    "head.next.pre = cur\n",
    "\n",
    "curListNum = ListNum\n",
    "curCheck = NumToSelect > curListNum and NumToSelect%curListNum or NumToSelect\n",
    "curEle = head.next\n",
    "curNum = 1\n",
    "while curEle.next != curEle:\n",
    "    if curNum >= curCheck :\n",
    "        print(curEle)\n",
    "        curListNum -= 1\n",
    "        curCheck = NumToSelect > curListNum and NumToSelect%curListNum or NumToSelect\n",
    "        curEle.next.pre = curEle.pre\n",
    "        curEle.pre.next = curEle.next\n",
    "        curEle = curEle.next\n",
    "        curNum = 1\n",
    "    curEle = curEle.next\n",
    "    curNum += 1\n",
    "print(\"the left is: \",curEle)\n"
   ]
  },
  {
   "cell_type": "code",
   "execution_count": null,
   "metadata": {},
   "outputs": [],
   "source": []
  },
  {
   "cell_type": "code",
   "execution_count": null,
   "metadata": {},
   "outputs": [],
   "source": []
  },
  {
   "cell_type": "code",
   "execution_count": null,
   "metadata": {},
   "outputs": [],
   "source": []
  },
  {
   "cell_type": "code",
   "execution_count": null,
   "metadata": {},
   "outputs": [],
   "source": []
  },
  {
   "cell_type": "code",
   "execution_count": null,
   "metadata": {},
   "outputs": [],
   "source": []
  },
  {
   "cell_type": "code",
   "execution_count": null,
   "metadata": {},
   "outputs": [],
   "source": []
  },
  {
   "cell_type": "code",
   "execution_count": null,
   "metadata": {},
   "outputs": [],
   "source": []
  },
  {
   "cell_type": "code",
   "execution_count": null,
   "metadata": {},
   "outputs": [],
   "source": []
  }
 ],
 "metadata": {
  "kernelspec": {
   "display_name": "Python 3",
   "language": "python",
   "name": "python3"
  },
  "language_info": {
   "codemirror_mode": {
    "name": "ipython",
    "version": 3
   },
   "file_extension": ".py",
   "mimetype": "text/x-python",
   "name": "python",
   "nbconvert_exporter": "python",
   "pygments_lexer": "ipython3",
   "version": "3.7.5"
  }
 },
 "nbformat": 4,
 "nbformat_minor": 2
}
